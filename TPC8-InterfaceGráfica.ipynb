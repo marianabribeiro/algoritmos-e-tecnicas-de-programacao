{
 "cells": [
  {
   "cell_type": "markdown",
   "metadata": {},
   "source": [
    "# TPC8\n",
    "\n",
    "<b> Identificador: </b> Tpc8                                       <b> Título: </b> Interface Gráfica - EMD\n",
    "\n",
    "<b> Data início: </b> 2021-12-6                                   <b> Data fim: </b> 2021-12-12\n",
    "\n",
    "<b> Supervisor: </b> José Carlos Ramalho:https://www.di.uminho.pt/~jcr/  <b> Autor: </b> Mariana Barbosa Ribeiro, a94964\n",
    "\n",
    "\n",
    "### Resumo\n",
    "\n",
    "Interface Gráfica para gestão da base de dados EMD.\n",
    "\n",
    "### Código "
   ]
  },
  {
   "cell_type": "code",
   "execution_count": 31,
   "metadata": {},
   "outputs": [
    {
     "ename": "ModuleNotFoundError",
     "evalue": "No module named 'moduloemd'",
     "output_type": "error",
     "traceback": [
      "\u001b[1;31m---------------------------------------------------------------------------\u001b[0m",
      "\u001b[1;31mModuleNotFoundError\u001b[0m                       Traceback (most recent call last)",
      "\u001b[1;32m<ipython-input-31-0d54152f1b2c>\u001b[0m in \u001b[0;36m<module>\u001b[1;34m\u001b[0m\n\u001b[0;32m      1\u001b[0m \u001b[1;32mimport\u001b[0m \u001b[0mPySimpleGUI\u001b[0m \u001b[1;32mas\u001b[0m \u001b[0msg\u001b[0m\u001b[1;33m\u001b[0m\u001b[1;33m\u001b[0m\u001b[0m\n\u001b[1;32m----> 2\u001b[1;33m \u001b[1;32mimport\u001b[0m \u001b[0mmoduloemd\u001b[0m \u001b[1;32mas\u001b[0m \u001b[0memd\u001b[0m\u001b[1;33m\u001b[0m\u001b[1;33m\u001b[0m\u001b[0m\n\u001b[0m\u001b[0;32m      3\u001b[0m \u001b[1;33m\u001b[0m\u001b[0m\n\u001b[0;32m      4\u001b[0m menu_list_column =[[sg.Button(\"Listar DataSet\")],[sg.Button(\"Consultar DataSet\"), sg.InputText(\"Consultar\", font=\"Helvetica 24\", key=\"_consulta\")],\n\u001b[0;32m      5\u001b[0m                    \u001b[1;33m[\u001b[0m\u001b[0msg\u001b[0m\u001b[1;33m.\u001b[0m\u001b[0mButton\u001b[0m\u001b[1;33m(\u001b[0m\u001b[1;34m\"Visualizar Modalidades\"\u001b[0m\u001b[1;33m)\u001b[0m\u001b[1;33m]\u001b[0m\u001b[1;33m,\u001b[0m\u001b[1;33m\u001b[0m\u001b[1;33m\u001b[0m\u001b[0m\n",
      "\u001b[1;31mModuleNotFoundError\u001b[0m: No module named 'moduloemd'"
     ]
    }
   ],
   "source": [
    "import TPC8-MóduloEMD as emd\n",
    "import PySimpleGUI as sg\n",
    "\n",
    "bd=[]\n",
    "\n",
    "comandos =[[sg.Button(\"Listar DataSet\")],\n",
    "           [sg.Button(\"Dsitribuição por Modalidade\")],\n",
    "           [sg.Button(\"Distribuição por Clube\")],\n",
    "           [sg.Button(\"Distribuição por Ano\")],\n",
    "           [sg.Button(\"ok\")]]\n",
    "\n",
    "\n",
    "dados=[]\n",
    "coluna = [[sg.Text(\"Painel de Dados\")],\n",
    "    [sg.Text(size=(40, 1), key=\"-Dados-\")],\n",
    "    [sg.Listbox(values=dados, size=(40, 10), key=\"-Lista-\")]]\n",
    "\n",
    "\n",
    "layout = [[sg.Column(comandos), sg.VSeperator(), sg.Column(coluna)]]\n",
    "\n",
    "windowApp = sg.Window(\"EMD\", font=\"Helvetica 24\", default_element_size=(20,1)).Layout(layout)\n",
    "\n",
    "\n",
    "\n",
    "stop=False\n",
    "while not stop:\n",
    "    \n",
    "    event, values=windowApp.read()\n",
    "    if event==\"ok\" or event==sg.WIN_CLOSED:\n",
    "        stop=True\n",
    "        \n",
    "        \n",
    "    elif event==\"Listar DataSet\":\n",
    "        bd=emd.lerDataset(\"emd.csv\")\n",
    "        listaDataSet=emd.listarDataset(bd)\n",
    "        windowApp[\"-Dados-\"].update(\"Foram carregados \" + str(len(bd)) + \" registos\")\n",
    "\n",
    "    \n",
    "    elif event==\"Dsitribuição por Modalidade\":\n",
    "        bd=emd.lerDataset(\"emd.csv\")\n",
    "        dados.append(emd.distribPorModalidade(bd))\n",
    "        windowApp.find_element('-Lista-').Update(values=dados) \n",
    "        \n",
    "    elif event==\"Dsitribuição por Ano\":\n",
    "        bd=emd.lerDataset(\"emd.csv\")\n",
    "        dados.append(emd.distribPorAno(bd))\n",
    "        windowApp.find_element('-Lista-').Update(values=dados)\n",
    "        \n",
    "\n",
    "    elif event==\"Distribuição por Clube\":\n",
    "        bd=emd.lerDataset(\"emd.csv\")\n",
    "        dados.append(emd.distribPorClube(bd))\n",
    "        windowApp.find_element('-Lista-').Update(values=dados)\n",
    "\n",
    "        \n",
    "    \n",
    "windowApp.close()\n",
    "\n",
    "\n",
    "\n",
    "\n",
    "\n",
    "\n",
    "\n"
   ]
  },
  {
   "cell_type": "code",
   "execution_count": null,
   "metadata": {},
   "outputs": [],
   "source": []
  }
 ],
 "metadata": {
  "kernelspec": {
   "display_name": "Python 3",
   "language": "python",
   "name": "python3"
  },
  "language_info": {
   "codemirror_mode": {
    "name": "ipython",
    "version": 3
   },
   "file_extension": ".py",
   "mimetype": "text/x-python",
   "name": "python",
   "nbconvert_exporter": "python",
   "pygments_lexer": "ipython3",
   "version": "3.8.3"
  }
 },
 "nbformat": 4,
 "nbformat_minor": 4
}
