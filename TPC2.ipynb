{
 "cells": [
  {
   "cell_type": "markdown",
   "metadata": {},
   "source": [
    "# TPC 2 "
   ]
  },
  {
   "cell_type": "markdown",
   "metadata": {},
   "source": [
    "<b> Identificador: </b> Tpc2                                       <b> Título: </b> Adivinha o número\n",
    "\n",
    "<b> Data início: </b> 2021-10-12                                   <b> Data fim: </b> 2021-10-15\n",
    "\n",
    "<b> Supervisor: </b> José Carlos Ramalho                           <b> Autor: </b> Mariana Barbosa Ribeiro, a94964"
   ]
  },
  {
   "cell_type": "markdown",
   "metadata": {},
   "source": [
    "### Resumo\n",
    "\n",
    "O objetivo deste TPC é elaborar um programa em python que implemente um jogo no qual o computador tenta adivinhar que número o utilizador está a pensar.\n",
    "\n",
    "Para encontrar o número de forma rápida implementou-se o algoritmo de pesquisa binária, que vai dividindo a pesquisa do espaço de soluções ao meio, consoante as respostas do utilizador.\n"
   ]
  },
  {
   "cell_type": "markdown",
   "metadata": {},
   "source": [
    "### Código"
   ]
  },
  {
   "cell_type": "code",
   "execution_count": 1,
   "metadata": {},
   "outputs": [
    {
     "name": "stdout",
     "output_type": "stream",
     "text": [
      "Pense num numero de 0 a 100. O computador vai tentar adivinhar que número pensou. /n\n",
      "O número é maior, menor ou igual a 50 :maior\n",
      "tentativa:  1\n",
      "O número é maior, menor ou igual a 75 :menor\n",
      "Número de tentativas:  2\n",
      "O número é maior, menor ou igual a 62 :menor\n",
      "Número de tentativas:  3\n",
      "O número é maior, menor ou igual a 56 :menor\n",
      "Número de tentativas:  4\n",
      "O número é maior, menor ou igual a 53 :igual\n",
      "O computador encontrou o número. O número é:  53\n"
     ]
    },
    {
     "data": {
      "text/plain": [
       "1"
      ]
     },
     "execution_count": 1,
     "metadata": {},
     "output_type": "execute_result"
    }
   ],
   "source": [
    "#Parâmetros de entrada: \n",
    "#n1- inferior do conjunto de soluções\n",
    "#n2- superior do conjunto de soluções\n",
    "#t- número de tentativas\n",
    "\n",
    "print(\"Pense num numero de 0 a 100. O computador vai tentar adivinhar que número pensou. /n\")\n",
    "\n",
    "def adivinha(n1, n2, t):\n",
    "    \n",
    "    meio=(n1+n2)//2  \n",
    "    p=input(\"O número é maior, menor ou igual a %s :\" %meio)\n",
    "\n",
    "    if p==\"maior\" :\n",
    "        n1=meio\n",
    "        t=t+1\n",
    "        print (\"tentativa: \", t)\n",
    "        adivinha(n1, n2, t)\n",
    "          \n",
    "    elif p==\"menor\" :\n",
    "        n2=meio\n",
    "        t=t+1\n",
    "        print (\"Número de tentativas: \", t)\n",
    "        adivinha(n1, n2, t)\n",
    "        \n",
    "    elif p==\"igual\":\n",
    "        print(\"O computador encontrou o número. O número é: \", meio)\n",
    "        \n",
    "    else: \n",
    "        print (\"Resposta inválida\")\n",
    "         \n",
    "    return t      \n",
    "\n",
    "adivinha(0, 100, 0)\n",
    "    \n",
    "    \n",
    "    \n",
    "    \n",
    "    \n",
    "    "
   ]
  },
  {
   "cell_type": "code",
   "execution_count": null,
   "metadata": {},
   "outputs": [],
   "source": []
  }
 ],
 "metadata": {
  "kernelspec": {
   "display_name": "Python 3",
   "language": "python",
   "name": "python3"
  },
  "language_info": {
   "codemirror_mode": {
    "name": "ipython",
    "version": 3
   },
   "file_extension": ".py",
   "mimetype": "text/x-python",
   "name": "python",
   "nbconvert_exporter": "python",
   "pygments_lexer": "ipython3",
   "version": "3.8.3"
  }
 },
 "nbformat": 4,
 "nbformat_minor": 4
}
