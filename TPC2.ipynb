{
 "cells": [
  {
   "cell_type": "markdown",
   "metadata": {},
   "source": [
    "# TPC 2 "
   ]
  },
  {
   "cell_type": "markdown",
   "metadata": {},
   "source": [
    "<b> Identificador: </b> Tpc2                                       <b> Título: </b> Adivinha o número\n",
    "\n",
    "<b> Data início: </b> 2021-10-12                                   <b> Data fim: </b> 2021-10-15\n",
    "\n",
    "<b> Supervisor: </b> José Carlos Ramalho                           <b> Autor: </b> Mariana Barbosa Ribeiro, a94964"
   ]
  },
  {
   "cell_type": "markdown",
   "metadata": {},
   "source": [
    "### Resumo\n",
    "\n",
    "O objetivo deste TPC é elaborar um programa em python que implemente um jogo no qual o computador tenta adivinhar que número o utilizador está a pensar.\n",
    "\n",
    "Para encontrar o número de forma rápida implementou-se o algoritmo de pesquisa binária, que vai dividindo a pesquisa do espaço de soluções ao meio, consoante as respostas do utilizador.\n"
   ]
  },
  {
   "cell_type": "markdown",
   "metadata": {},
   "source": [
    "### Código"
   ]
  },
  {
   "cell_type": "code",
   "execution_count": 10,
   "metadata": {},
   "outputs": [
    {
     "ename": "TypeError",
     "evalue": "raw_input() takes from 1 to 2 positional arguments but 4 were given",
     "output_type": "error",
     "traceback": [
      "\u001b[1;31m---------------------------------------------------------------------------\u001b[0m",
      "\u001b[1;31mTypeError\u001b[0m                                 Traceback (most recent call last)",
      "\u001b[1;32m<ipython-input-10-9b2709db6d92>\u001b[0m in \u001b[0;36m<module>\u001b[1;34m\u001b[0m\n\u001b[0;32m     28\u001b[0m     \u001b[1;32mreturn\u001b[0m \u001b[0mtentativas\u001b[0m\u001b[1;33m\u001b[0m\u001b[1;33m\u001b[0m\u001b[0m\n\u001b[0;32m     29\u001b[0m \u001b[1;33m\u001b[0m\u001b[0m\n\u001b[1;32m---> 30\u001b[1;33m \u001b[0madivinha\u001b[0m\u001b[1;33m(\u001b[0m\u001b[0mn\u001b[0m\u001b[1;33m)\u001b[0m\u001b[1;33m\u001b[0m\u001b[1;33m\u001b[0m\u001b[0m\n\u001b[0m\u001b[0;32m     31\u001b[0m \u001b[1;33m\u001b[0m\u001b[0m\n\u001b[0;32m     32\u001b[0m \u001b[1;33m\u001b[0m\u001b[0m\n",
      "\u001b[1;32m<ipython-input-10-9b2709db6d92>\u001b[0m in \u001b[0;36madivinha\u001b[1;34m(n)\u001b[0m\n\u001b[0;32m     11\u001b[0m \u001b[1;33m\u001b[0m\u001b[0m\n\u001b[0;32m     12\u001b[0m     \u001b[1;32mwhile\u001b[0m \u001b[0mvalor\u001b[0m\u001b[1;33m==\u001b[0m\u001b[1;32mFalse\u001b[0m\u001b[1;33m:\u001b[0m\u001b[1;33m\u001b[0m\u001b[1;33m\u001b[0m\u001b[0m\n\u001b[1;32m---> 13\u001b[1;33m         \u001b[0mp\u001b[0m\u001b[1;33m=\u001b[0m\u001b[0mstr\u001b[0m\u001b[1;33m(\u001b[0m\u001b[0minput\u001b[0m\u001b[1;33m(\u001b[0m\u001b[1;34m\"O número é maior, menor ou igual a \"\u001b[0m\u001b[1;33m,\u001b[0m \u001b[0mn\u001b[0m\u001b[1;33m,\u001b[0m \u001b[1;34m\"?\"\u001b[0m\u001b[1;33m)\u001b[0m\u001b[1;33m)\u001b[0m\u001b[1;33m\u001b[0m\u001b[1;33m\u001b[0m\u001b[0m\n\u001b[0m\u001b[0;32m     14\u001b[0m \u001b[1;33m\u001b[0m\u001b[0m\n\u001b[0;32m     15\u001b[0m         \u001b[1;32mif\u001b[0m \u001b[0mp\u001b[0m\u001b[1;33m==\u001b[0m\u001b[1;34m\"menor\"\u001b[0m\u001b[1;33m:\u001b[0m\u001b[1;33m\u001b[0m\u001b[1;33m\u001b[0m\u001b[0m\n",
      "\u001b[1;31mTypeError\u001b[0m: raw_input() takes from 1 to 2 positional arguments but 4 were given"
     ]
    }
   ],
   "source": [
    "#Parâmetros de entrada: \n",
    "#n1- inferior do conjunto de soluções\n",
    "#n2- superior do conjunto de soluções\n",
    "#t- número de tentativas\n",
    "\n",
    "print(\"Pense num numero de 0 a 100. O computador vai tentar adivinhar que número pensou. /n\")\n",
    "\n",
    "def adivinha(n1, n2, t):\n",
    "    \n",
    "    meio=(n1+n2)//2  \n",
    "    p=input(\"O número é maior, menor ou igual a %s :\" %meio)\n",
    "\n",
    "    if p==\"maior\" :\n",
    "        n1=meio\n",
    "        t=t+1\n",
    "        print (\"tentativa: \", t)\n",
    "        adivinha(n1, n2, t)\n",
    "          \n",
    "    elif p==\"menor\" :\n",
    "        n2=meio\n",
    "        t=t+1\n",
    "        print (\"Número de tentativas: \", t)\n",
    "        adivinha(n1, n2, t)\n",
    "        \n",
    "    elif p==\"igual\":\n",
    "        print(\"O computador encontrou o número. O número é: \", meio)\n",
    "        \n",
    "    else: \n",
    "        print (\"Resposta inválida\")\n",
    "         \n",
    "    return t      \n",
    "\n",
    "adivinha(0, 100, 0)\n",
    "    \n",
    "    \n",
    "    \n",
    "    \n",
    "    \n",
    "    "
   ]
  },
  {
   "cell_type": "code",
   "execution_count": null,
   "metadata": {},
   "outputs": [],
   "source": []
  }
 ],
 "metadata": {
  "kernelspec": {
   "display_name": "Python 3",
   "language": "python",
   "name": "python3"
  },
  "language_info": {
   "codemirror_mode": {
    "name": "ipython",
    "version": 3
   },
   "file_extension": ".py",
   "mimetype": "text/x-python",
   "name": "python",
   "nbconvert_exporter": "python",
   "pygments_lexer": "ipython3",
   "version": "3.8.3"
  }
 },
 "nbformat": 4,
 "nbformat_minor": 4
}
